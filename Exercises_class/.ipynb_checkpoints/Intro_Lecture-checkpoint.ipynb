{
 "cells": [
  {
   "cell_type": "markdown",
   "metadata": {},
   "source": [
    "# Introduction Lecture \n",
    "\n",
    "available at https://www.geophysik.uni-muenchen.de/~igel/Lectures/Book/SS20/\n",
    "\n",
    "## Exercise: Sampling a global seismic wavefield\n",
    "\n",
    "Slide 17\n",
    "- The highest frequencies that we observe for globalwave fields is 1Hz.\n",
    "- We assume a homogeneous Earth (radius 6371km).\n",
    "- P velocity vp=10km/s and the vp/vs ratio is sqrt(3)\n",
    "- We want to use 20 grid points (cells) per wavelength\n",
    "- How many grid cells would you need (assume cubic cells).\n",
    "- What would be their size?\n",
    "- How much memory would you need to store one suchfield (e.g., density in single precision)"
   ]
  },
  {
   "cell_type": "code",
   "execution_count": 27,
   "metadata": {},
   "outputs": [],
   "source": [
    "import numpy as np"
   ]
  },
  {
   "cell_type": "code",
   "execution_count": 28,
   "metadata": {},
   "outputs": [],
   "source": [
    "f = 1  #Hz\n",
    "T = 1/f  #s\n",
    "r = 6371*(10**3)  #m\n",
    "vp = 10*(10**3)  #m/s\n",
    "vs = vp/np.sqrt(3)  #m/s\n",
    "#precision: choose single = 4 and double = 8\n",
    "p = 4"
   ]
  },
  {
   "cell_type": "code",
   "execution_count": 29,
   "metadata": {},
   "outputs": [],
   "source": [
    "#wavelength wl\n",
    "wl = vs*T"
   ]
  },
  {
   "cell_type": "code",
   "execution_count": 30,
   "metadata": {},
   "outputs": [],
   "source": [
    "#grid points\n",
    "gp = wl/20"
   ]
  },
  {
   "cell_type": "code",
   "execution_count": 31,
   "metadata": {},
   "outputs": [],
   "source": [
    "#volume of the Earth\n",
    "V = 4/3 * np.pi * r**3"
   ]
  },
  {
   "cell_type": "code",
   "execution_count": 32,
   "metadata": {},
   "outputs": [],
   "source": [
    "#computational cell size in 3D\n",
    "dV = gp**3"
   ]
  },
  {
   "cell_type": "code",
   "execution_count": 33,
   "metadata": {},
   "outputs": [
    {
     "name": "stdout",
     "output_type": "stream",
     "text": [
      "45028065962085.14\n"
     ]
    }
   ],
   "source": [
    "#number of cells nc\n",
    "nc = V/dV\n",
    "print(nc)"
   ]
  },
  {
   "cell_type": "code",
   "execution_count": 34,
   "metadata": {},
   "outputs": [
    {
     "name": "stdout",
     "output_type": "stream",
     "text": [
      "180112263848340.56\n"
     ]
    }
   ],
   "source": [
    "#memory requirement (density in single precision)\n",
    "mem = p * nc\n",
    "print(mem)"
   ]
  },
  {
   "cell_type": "code",
   "execution_count": 35,
   "metadata": {},
   "outputs": [
    {
     "name": "stdout",
     "output_type": "stream",
     "text": [
      "The memory requirement would 180112.26384834058 GB or 180.11226384834055 TB\n"
     ]
    }
   ],
   "source": [
    "#memory requirement in GB and TB\n",
    "mem_GB = mem*(10**(-9))\n",
    "mem_TB = mem*(10**(-12))\n",
    "print('The memory requirement would {} GB or {} TB'.format(mem_GB, mem_TB))"
   ]
  },
  {
   "cell_type": "markdown",
   "metadata": {},
   "source": [
    "### Plot as funtion of frequency (or period)"
   ]
  },
  {
   "cell_type": "code",
   "execution_count": 50,
   "metadata": {},
   "outputs": [],
   "source": [
    "import matplotlib.pyplot as plt"
   ]
  },
  {
   "cell_type": "code",
   "execution_count": 84,
   "metadata": {},
   "outputs": [
    {
     "name": "stdout",
     "output_type": "stream",
     "text": [
      "[   180.11226385   1440.89811079   4863.03112391  11527.18488629\n",
      "  22514.03298104  38904.24899124  61778.50649998  92217.47909035\n",
      " 131301.84034544 180112.26384834]\n"
     ]
    }
   ],
   "source": [
    "f = np.arange(0.1, 1.1, 0.1)  #Hz\n",
    "T = 1/f  #s\n",
    "r = 6371*(10**3)  #m\n",
    "vp = 10*(10**3)  #m/s\n",
    "vs = vp/np.sqrt(3)  #m/s\n",
    "wl = vs*T\n",
    "gp = wl/20\n",
    "#computational ell size in 3D\n",
    "dV = gp**3\n",
    "#volume of the Earth V\n",
    "V = 4/3 * np.pi * r**3\n",
    "nc = V/dV\n",
    "mem = p * nc\n",
    "mem_GB = mem*(10**(-9))\n",
    "mem_TB = mem*(10**(-12))\n",
    "print(mem_GB)"
   ]
  },
  {
   "cell_type": "code",
   "execution_count": 85,
   "metadata": {},
   "outputs": [
    {
     "data": {
      "text/plain": [
       "Text(0, 0.5, 'memory single precision [TB] ')"
      ]
     },
     "execution_count": 85,
     "metadata": {},
     "output_type": "execute_result"
    },
    {
     "data": {
      "image/png": "[encoded data removed]",
      "text/plain": [
       "<Figure size 432x288 with 1 Axes>"
      ]
     },
     "metadata": {
      "needs_background": "light"
     },
     "output_type": "display_data"
    }
   ],
   "source": [
    "plt.plot(f,mem_TB)\n",
    "plt.xlabel('frequency [Hz]')\n",
    "plt.ylabel('memory single precision [TB] ')"
   ]
  },
  {
   "cell_type": "markdown",
   "metadata": {},
   "source": [
    "## Exercise: Sampling an exploration seismic wavefield\n",
    "\n",
    "Slide 21\n",
    "- The highest frequencies that we observe for exploration is 20Hz.\n",
    "- We assume a homogeneous Earth 20 km x 20 km x 5km .\n",
    "- P velocity vp=5km/s and the vp/vs ratio is sqrt(3)\n",
    "- We want to use 20grid points (cells) per wavelength\n",
    "- How many grid cells would you need (assume cubic cells).\n",
    "- What would be their size?\n",
    "- How much memory would you need to store one suchfield (e.g., density in single precision)."
   ]
  },
  {
   "cell_type": "code",
   "execution_count": 41,
   "metadata": {},
   "outputs": [],
   "source": [
    "f = 20  #Hz\n",
    "T=1/f  #s\n",
    "vp = 5*10**3  #m/s\n",
    "vs = vp/np.sqrt(3)  #m/s\n",
    "#precision: choose single = 4 and double = 8\n",
    "p = 4"
   ]
  },
  {
   "cell_type": "code",
   "execution_count": 42,
   "metadata": {},
   "outputs": [],
   "source": [
    "wl = vs*T\n",
    "#number of grid points\n",
    "gp = wl/20"
   ]
  },
  {
   "cell_type": "code",
   "execution_count": 43,
   "metadata": {},
   "outputs": [],
   "source": [
    "#computational cell size in 3D\n",
    "dV = gp**3\n",
    "#Volume homogenoues Earth\n",
    "V = 20*10**3 * 20*10**3 * 5*10**3"
   ]
  },
  {
   "cell_type": "code",
   "execution_count": 44,
   "metadata": {},
   "outputs": [
    {
     "name": "stdout",
     "output_type": "stream",
     "text": [
      "5320860080.85159\n"
     ]
    }
   ],
   "source": [
    "#number oc cells nc\n",
    "nc = V/dV\n",
    "print(nc)"
   ]
  },
  {
   "cell_type": "code",
   "execution_count": 45,
   "metadata": {},
   "outputs": [
    {
     "name": "stdout",
     "output_type": "stream",
     "text": [
      "21283440323.40636\n"
     ]
    }
   ],
   "source": [
    "#memory requirement (density in single precision)\n",
    "mem = p * nc\n",
    "print(mem)"
   ]
  },
  {
   "cell_type": "code",
   "execution_count": 46,
   "metadata": {},
   "outputs": [
    {
     "name": "stdout",
     "output_type": "stream",
     "text": [
      "The memory requirement would 21.283440323406364 GB or 0.02128344032340636 TB\n"
     ]
    }
   ],
   "source": [
    "#memory requirement in GB and TB\n",
    "mem_GB = mem*(10**(-9))\n",
    "mem_TB = mem*(10**(-12))\n",
    "print('The memory requirement would {} GB or {} TB'.format(mem_GB, mem_TB))"
   ]
  },
  {
   "cell_type": "code",
   "execution_count": null,
   "metadata": {},
   "outputs": [],
   "source": []
  }
 ],
 "metadata": {
  "kernelspec": {
   "display_name": "Python 3",
   "language": "python",
   "name": "python3"
  },
  "language_info": {
   "codemirror_mode": {
    "name": "ipython",
    "version": 3
   },
   "file_extension": ".py",
   "mimetype": "text/x-python",
   "name": "python",
   "nbconvert_exporter": "python",
   "pygments_lexer": "ipython3",
   "version": "3.7.3"
  }
 },
 "nbformat": 4,
 "nbformat_minor": 2
}
